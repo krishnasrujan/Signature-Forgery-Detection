{
  "nbformat": 4,
  "nbformat_minor": 0,
  "metadata": {
    "accelerator": "GPU",
    "colab": {
      "name": "base_model_1.ipynb",
      "provenance": [],
      "collapsed_sections": []
    },
    "kernelspec": {
      "display_name": "Python 3",
      "language": "python",
      "name": "python3"
    },
    "language_info": {
      "codemirror_mode": {
        "name": "ipython",
        "version": 3
      },
      "file_extension": ".py",
      "mimetype": "text/x-python",
      "name": "python",
      "nbconvert_exporter": "python",
      "pygments_lexer": "ipython3",
      "version": "3.8.5"
    }
  },
  "cells": [
    {
      "cell_type": "code",
      "metadata": {
        "id": "V8mDCBwwx3ut"
      },
      "source": [
        " import cv2                 # working with, mainly resizing, images\n",
        "import numpy as np         # dealing with arrays\n",
        "import os                  # dealing with directories\n",
        "import matplotlib.pyplot as plt\n",
        "import tensorflow as tf\n",
        "from tensorflow.keras.layers import Input, Conv2D, MaxPool2D, Flatten, Dense, concatenate, Lambda, BatchNormalization, Dropout\n",
        "from tensorflow.keras import Sequential, Model\n",
        "import traceback as tb\n",
        "from tensorflow.keras.losses import CosineSimilarity"
      ],
      "execution_count": null,
      "outputs": []
    },
    {
      "cell_type": "code",
      "metadata": {
        "colab": {
          "base_uri": "https://localhost:8080/"
        },
        "id": "VmGmyx_JyY4_",
        "outputId": "7bdcdd8c-94f2-4161-8e1c-e8cc61fc8777"
      },
      "source": [
        "!wget -c https://www.dropbox.com/s/ee5rwju5qnlrxb4/sign_data_2.zip"
      ],
      "execution_count": null,
      "outputs": [
        {
          "output_type": "stream",
          "text": [
            "--2021-01-31 02:55:56--  https://www.dropbox.com/s/ee5rwju5qnlrxb4/sign_data_2.zip\n",
            "Resolving www.dropbox.com (www.dropbox.com)... 162.125.6.18, 2620:100:6019:18::a27d:412\n",
            "Connecting to www.dropbox.com (www.dropbox.com)|162.125.6.18|:443... connected.\n",
            "HTTP request sent, awaiting response... 301 Moved Permanently\n",
            "Location: /s/raw/ee5rwju5qnlrxb4/sign_data_2.zip [following]\n",
            "--2021-01-31 02:55:56--  https://www.dropbox.com/s/raw/ee5rwju5qnlrxb4/sign_data_2.zip\n",
            "Reusing existing connection to www.dropbox.com:443.\n",
            "HTTP request sent, awaiting response... 302 Found\n",
            "Location: https://ucc9caece27dc6d3bc9a478140fd.dl.dropboxusercontent.com/cd/0/inline/BIA2kQGiZ4MTHa4oXexZv8JqHL6phovhbUdgpPibUUHbyLNrDx6cGY4iXbizCLRbfsn21zaUg9JEFInun6a4sd5rOUEZ-q5Srb_c1BZJ6-oXJFjqd49Nc-KNo5DYwI5SzSQ/file# [following]\n",
            "--2021-01-31 02:55:56--  https://ucc9caece27dc6d3bc9a478140fd.dl.dropboxusercontent.com/cd/0/inline/BIA2kQGiZ4MTHa4oXexZv8JqHL6phovhbUdgpPibUUHbyLNrDx6cGY4iXbizCLRbfsn21zaUg9JEFInun6a4sd5rOUEZ-q5Srb_c1BZJ6-oXJFjqd49Nc-KNo5DYwI5SzSQ/file\n",
            "Resolving ucc9caece27dc6d3bc9a478140fd.dl.dropboxusercontent.com (ucc9caece27dc6d3bc9a478140fd.dl.dropboxusercontent.com)... 162.125.4.15, 2620:100:601c:15::a27d:60f\n",
            "Connecting to ucc9caece27dc6d3bc9a478140fd.dl.dropboxusercontent.com (ucc9caece27dc6d3bc9a478140fd.dl.dropboxusercontent.com)|162.125.4.15|:443... connected.\n",
            "HTTP request sent, awaiting response... 302 Found\n",
            "Location: /cd/0/inline2/BIAp7NkwSToWzUctgZoOpr-Uk8FGGmKyl4nanSNy2TevLw6FYR8Jhx7isy1FRstPcVKu7hejc14jMENu8yjUjDu7Tg5Xtpl_aDZkn7WMEaieJyULu1D-GYvI_S8WaInebfNArScj6FaM61dCd5zKQFzvvIyClz5D08gmi_EfsrTGKX038JxPC4Vayn8NpAWmAIQ9JC9ZbBsJAn-4Ave800IupydN50WwGbrwcmg0rmc45zCdWqfzdVPj8cSoeQdqxTb30Tyl1tI4uB0OZsyDdLl3p1wIYIccmi_grhGcSvr7PB_iIjOfC2vtESo5hJpAU_KrKFyFVaGQcO5dGT7hJ2gxjEoCr4n0rOGJ_kGdSICvQA/file [following]\n",
            "--2021-01-31 02:55:57--  https://ucc9caece27dc6d3bc9a478140fd.dl.dropboxusercontent.com/cd/0/inline2/BIAp7NkwSToWzUctgZoOpr-Uk8FGGmKyl4nanSNy2TevLw6FYR8Jhx7isy1FRstPcVKu7hejc14jMENu8yjUjDu7Tg5Xtpl_aDZkn7WMEaieJyULu1D-GYvI_S8WaInebfNArScj6FaM61dCd5zKQFzvvIyClz5D08gmi_EfsrTGKX038JxPC4Vayn8NpAWmAIQ9JC9ZbBsJAn-4Ave800IupydN50WwGbrwcmg0rmc45zCdWqfzdVPj8cSoeQdqxTb30Tyl1tI4uB0OZsyDdLl3p1wIYIccmi_grhGcSvr7PB_iIjOfC2vtESo5hJpAU_KrKFyFVaGQcO5dGT7hJ2gxjEoCr4n0rOGJ_kGdSICvQA/file\n",
            "Reusing existing connection to ucc9caece27dc6d3bc9a478140fd.dl.dropboxusercontent.com:443.\n",
            "HTTP request sent, awaiting response... 200 OK\n",
            "\n",
            "    The file is already fully retrieved; nothing to do.\n",
            "\n"
          ],
          "name": "stdout"
        }
      ]
    },
    {
      "cell_type": "code",
      "metadata": {
        "id": "y8_zi5hvyaxE"
      },
      "source": [
        "!unzip -uq sign_data_2.zip"
      ],
      "execution_count": null,
      "outputs": []
    },
    {
      "cell_type": "code",
      "metadata": {
        "id": "c99TY4Xqx3vW"
      },
      "source": [
        "train_dir = '/content/sign_data_2/train'\n",
        "test_dir = '/content/sign_data_2/test'"
      ],
      "execution_count": null,
      "outputs": []
    },
    {
      "cell_type": "markdown",
      "metadata": {
        "id": "j60UKmYn2Quj"
      },
      "source": [
        "The following is a generator function which yields (or \"returns\") a data point at a time. A data point consists of 3 images (anchor, positive and negative) and a dummy label that needs to be fed to tenorflow model."
      ]
    },
    {
      "cell_type": "code",
      "metadata": {
        "id": "aZWTAYPZx3va"
      },
      "source": [
        "def preprocess(image):\n",
        "  kernel = cv2.getStructuringElement(cv2.MORPH_CROSS,(3,3))   # defining kernel for mathematical morphing\n",
        "  gray = cv2.cvtColor(image, cv2.COLOR_BGR2GRAY)   # converting to gray scale\n",
        "  thresh = cv2.threshold(gray, 128, 255, cv2.THRESH_BINARY | cv2.THRESH_OTSU)[1] # converting to black and white image\n",
        "  thresh = cv2.erode(thresh, kernel, iterations=3)   # performing erosion operation \n",
        "  thresh = cv2.dilate(thresh, kernel, iterations=1)  # performing dilation \n",
        "  image = cv2.resize(thresh, (250, 75))             # resizing\n",
        "  return image\n",
        "\n",
        "def train_data_gen():\n",
        "    '''\n",
        "    A generator function which yields one training data point at a time.\n",
        "    '''\n",
        "    for folder in os.listdir(train_dir):\n",
        "        '''\n",
        "        Setting paths for real1,real2,forge folders \n",
        "        '''\n",
        "        real1 = os.path.join(train_dir, folder, '1')\n",
        "        real2 = os.path.join(train_dir, folder, '2')\n",
        "        forge = os.path.join(train_dir, folder, 'forg')\n",
        "        \n",
        "        for r2 in os.listdir(real2):\n",
        "            \n",
        "            r2_path = os.path.join(real2,r2)\n",
        "            \n",
        "            try:\n",
        "                r2_img = cv2.imread(r2_path,cv2.IMREAD_COLOR)     # reading image\n",
        "                r2_img = preprocess(r2_img)\n",
        "\n",
        "            except Exception as ex:\n",
        "                print(r2_path)\n",
        "                tb.print_tb(ex.__traceback__)\n",
        "            \n",
        "            for r1,f in zip(os.listdir(real1), os.listdir(forge)):\n",
        "                \n",
        "                r1_path = os.path.join(real1,r1)\n",
        "                f_path = os.path.join(forge,f)\n",
        "\n",
        "                try:\n",
        "                    r1_img = cv2.imread(r1_path,cv2.IMREAD_COLOR)    # reading image\n",
        "                    r1_img = preprocess(r1_img)\n",
        "\n",
        "                except Exception as ex:\n",
        "                    print(r1_path)\n",
        "                    tb.print_tb(ex.__traceback__)\n",
        "\n",
        "                try:\n",
        "                    f_img = cv2.imread(f_path,cv2.IMREAD_COLOR)     # reading image\n",
        "                    f_img = preprocess(f_img)\n",
        "\n",
        "                except Exception as ex:\n",
        "                    print(f_path)\n",
        "                    tb.print_tb(ex.__traceback__)\n",
        "                \n",
        "                r1_img_arr = np.expand_dims(np.array(r1_img), axis=-1)  # reshaping to (75,250,1)\n",
        "                assert r1_img_arr.shape == (75, 250, 1)\n",
        "                r2_img_arr = np.expand_dims(np.array(r2_img), axis=-1)\n",
        "                assert r2_img_arr.shape == (75, 250, 1)\n",
        "                f_img_arr = np.expand_dims(np.array(f_img), axis=-1)\n",
        "                assert f_img_arr.shape == (75, 250, 1)\n",
        "                yield (r1_img_arr, r2_img_arr, f_img_arr), 1\n"
      ],
      "execution_count": null,
      "outputs": []
    },
    {
      "cell_type": "code",
      "metadata": {
        "id": "v1g8XI8Yx3vi"
      },
      "source": [
        "train_gen = train_data_gen()"
      ],
      "execution_count": null,
      "outputs": []
    },
    {
      "cell_type": "code",
      "metadata": {
        "id": "s2O0fK8Cx3vj"
      },
      "source": [
        "# train_data.shape"
      ],
      "execution_count": null,
      "outputs": []
    },
    {
      "cell_type": "code",
      "metadata": {
        "colab": {
          "base_uri": "https://localhost:8080/",
          "height": 438
        },
        "id": "O0cPjzV6x3vm",
        "outputId": "0eb59cdb-b812-430b-8627-12115bfd2cc1"
      },
      "source": [
        "train_example = next(train_gen)\n",
        "for i in [0,1,2]:\n",
        "    plt.imshow(train_example[0][i].reshape(75, 250),cmap='gray')\n",
        "    plt.show()\n",
        "\n",
        "train_gen_list = list(train_gen)\n",
        "print('Number of training samples:', len(train_gen_list) + 1)\n",
        "del train_gen, train_gen_list"
      ],
      "execution_count": null,
      "outputs": [
        {
          "output_type": "display_data",
          "data": {
            "image/png": "[encoded data removed]",
            "text/plain": [
              "<Figure size 432x288 with 1 Axes>"
            ]
          },
          "metadata": {
            "tags": [],
            "needs_background": "light"
          }
        },
        {
          "output_type": "display_data",
          "data": {
            "image/png": "[encoded data removed]",
            "text/plain": [
              "<Figure size 432x288 with 1 Axes>"
            ]
          },
          "metadata": {
            "tags": [],
            "needs_background": "light"
          }
        },
        {
          "output_type": "display_data",
          "data": {
            "image/png": "[encoded data removed]",
            "text/plain": [
              "<Figure size 432x288 with 1 Axes>"
            ]
          },
          "metadata": {
            "tags": [],
            "needs_background": "light"
          }
        },
        {
          "output_type": "stream",
          "text": [
            "Number of training samples: 3252\n"
          ],
          "name": "stdout"
        }
      ]
    },
    {
      "cell_type": "markdown",
      "metadata": {
        "id": "f7K9QE9Y1_Gx"
      },
      "source": [
        "The following cell constructs a tensorflow data structure called Dataset from training data generator function for compatibility with tensorflow."
      ]
    },
    {
      "cell_type": "code",
      "metadata": {
        "id": "7iICAEU8eAtl"
      },
      "source": [
        "train_dataset = tf.data.Dataset.from_generator(\r\n",
        "    train_data_gen,\r\n",
        "    output_signature=(\r\n",
        "            (tf.TensorSpec((75, 250, 1), tf.int32),\r\n",
        "             tf.TensorSpec((75, 250, 1), tf.int32),\r\n",
        "             tf.TensorSpec((75, 250, 1), tf.int32)),\r\n",
        "            tf.TensorSpec((), tf.int32)\r\n",
        "         )\r\n",
        ")\r\n",
        "train_dataset = train_dataset.shuffle(3252, reshuffle_each_iteration=True)\r\n",
        "train_dataset = train_dataset.repeat()\r\n",
        "train_dataset = train_dataset.batch(64)"
      ],
      "execution_count": null,
      "outputs": []
    },
    {
      "cell_type": "markdown",
      "metadata": {
        "id": "yn_so-kB2GGJ"
      },
      "source": [
        "The following function is a generator function for test data similar to `train_data_gen` above. Here also a data point consists of 3 images (anchor, positive and negative) and a dummy label."
      ]
    },
    {
      "cell_type": "code",
      "metadata": {
        "id": "qRq-FWkGx3vn"
      },
      "source": [
        "def test_data_gen():\n",
        "    '''\n",
        "    A generator function which yields one test data point at a time.\n",
        "    '''\n",
        "    for folder in os.listdir(test_dir):\n",
        "        '''\n",
        "        Setting paths for real1,real2,forge folders \n",
        "        '''\n",
        "        real1 = os.path.join(test_dir, folder, '1')\n",
        "        real2 = os.path.join(test_dir, folder, '2')\n",
        "        forge = os.path.join(test_dir, folder, 'forg')\n",
        "\n",
        "        for r2 in os.listdir(real2):\n",
        "\n",
        "            r2_path = os.path.join(real2, r2)   # r2 image path\n",
        "\n",
        "            kernel = cv2.getStructuringElement(cv2.MORPH_CROSS,(3,3))\n",
        "\n",
        "            try:\n",
        "                r2_img = cv2.imread(r2_path,cv2.IMREAD_COLOR)     # reading image\n",
        "                gray = cv2.cvtColor(r2_img, cv2.COLOR_BGR2GRAY)   # converting to gray scale\n",
        "                thresh = cv2.threshold(gray, 128, 255, cv2.THRESH_BINARY | cv2.THRESH_OTSU)[1] # converting to black and white image\n",
        "                thresh = cv2.erode(thresh, kernel, iterations=3)   # performing erosion operation \n",
        "                thresh = cv2.dilate(thresh, kernel, iterations=1)  # performing dilation \n",
        "                r2_img = cv2.resize(thresh, (250, 75))             # resizing\n",
        "\n",
        "            except Exception as ex:\n",
        "                print(r2_path)\n",
        "                tb.print_tb(ex.__traceback__)\n",
        "        \n",
        "            for r1, f in zip(os.listdir(real1), os.listdir(forge)):\n",
        "                \n",
        "                r1_path = os.path.join(real1,r1)\n",
        "                f_path = os.path.join(forge,f)\n",
        "                \n",
        "                try:\n",
        "                    r1_img = cv2.imread(r1_path,cv2.IMREAD_COLOR)    # reading image\n",
        "                    gray = cv2.cvtColor(r1_img, cv2.COLOR_BGR2GRAY)  # converting to gray scale\n",
        "                    thresh = cv2.threshold(gray, 128, 255, cv2.THRESH_BINARY | cv2.THRESH_OTSU)[1] # converting to black and white image\n",
        "                    thresh = cv2.erode(thresh, kernel, iterations=3) # performing erosion operation \n",
        "                    thresh = cv2.dilate(thresh, kernel, iterations=1) # performing dilation \n",
        "                    r1_img = cv2.resize(thresh, (250, 75))            # resizing\n",
        "\n",
        "                except Exception as ex:\n",
        "                    print(r1_path)\n",
        "                    tb.print_tb(ex.__traceback__)\n",
        "                \n",
        "                try:\n",
        "                    f_img = cv2.imread(f_path,cv2.IMREAD_COLOR)     # reading image\n",
        "                    gray = cv2.cvtColor(f_img, cv2.COLOR_BGR2GRAY)  # converting to gray scale\n",
        "                    thresh = cv2.threshold(gray, 128, 255, cv2.THRESH_BINARY | cv2.THRESH_OTSU)[1] # converting to black and white image\n",
        "                    thresh = cv2.erode(thresh, kernel, iterations=3) # performing erosion operation \n",
        "                    thresh = cv2.dilate(thresh, kernel, iterations=1) # performing dilation \n",
        "                    f_img = cv2.resize(thresh, (250, 75))             # resizing\n",
        "\n",
        "                except Exception as ex:\n",
        "                    print(f_path)\n",
        "                    tb.print_tb(ex.__traceback__)\n",
        "                \n",
        "                r1_img_arr = np.array(r1_img).reshape(75,250,1)  # reshaping to (75,250,1)\n",
        "                assert r1_img_arr.shape == (75, 250, 1)\n",
        "                r2_img_arr = np.array(r2_img).reshape(75,250,1)\n",
        "                assert r2_img_arr.shape == (75, 250, 1)\n",
        "                f_img_arr = np.array(f_img).reshape(75,250,1)\n",
        "                assert f_img_arr.shape == (75, 250, 1)\n",
        "                yield (r1_img_arr, r2_img_arr, f_img_arr), 1\n"
      ],
      "execution_count": null,
      "outputs": []
    },
    {
      "cell_type": "code",
      "metadata": {
        "id": "lzd9-Hhrx3vr"
      },
      "source": [
        "test_gen = test_data_gen()"
      ],
      "execution_count": null,
      "outputs": []
    },
    {
      "cell_type": "code",
      "metadata": {
        "id": "3vRaRJ7Nx3vt"
      },
      "source": [
        "# test_data[0].shape"
      ],
      "execution_count": null,
      "outputs": []
    },
    {
      "cell_type": "code",
      "metadata": {
        "colab": {
          "base_uri": "https://localhost:8080/",
          "height": 440
        },
        "id": "bQ-7v6Txx3vu",
        "outputId": "ba867ef3-8a95-48ce-f14e-b8a0d9c16935"
      },
      "source": [
        "test_example = next(test_gen)\n",
        "for i in [0,1,2]:\n",
        "    plt.imshow(test_example[0][i].reshape(75, 250),cmap='gray')\n",
        "    plt.show()\n",
        "\n",
        "test_gen_list = list(test_gen)\n",
        "print('Number of testing/validation samples:', len(test_gen_list) + 1)\n",
        "del test_gen, test_gen_list"
      ],
      "execution_count": null,
      "outputs": [
        {
          "output_type": "display_data",
          "data": {
            "image/png": "[encoded data removed]",
            "text/plain": [
              "<Figure size 432x288 with 1 Axes>"
            ]
          },
          "metadata": {
            "tags": [],
            "needs_background": "light"
          }
        },
        {
          "output_type": "display_data",
          "data": {
            "image/png": "[encoded data removed]",
            "text/plain": [
              "<Figure size 432x288 with 1 Axes>"
            ]
          },
          "metadata": {
            "tags": [],
            "needs_background": "light"
          }
        },
        {
          "output_type": "display_data",
          "data": {
            "image/png": "[encoded data removed]",
            "text/plain": [
              "<Figure size 432x288 with 1 Axes>"
            ]
          },
          "metadata": {
            "tags": [],
            "needs_background": "light"
          }
        },
        {
          "output_type": "stream",
          "text": [
            "Number of testing/validation samples: 720\n"
          ],
          "name": "stdout"
        }
      ]
    },
    {
      "cell_type": "code",
      "metadata": {
        "id": "qeK9hCf4lkrs"
      },
      "source": [
        "test_dataset = tf.data.Dataset.from_generator(\r\n",
        "    test_data_gen,\r\n",
        "    output_signature=(\r\n",
        "            (tf.TensorSpec((75, 250, 1), tf.int32),\r\n",
        "             tf.TensorSpec((75, 250, 1), tf.int32),\r\n",
        "             tf.TensorSpec((75, 250, 1), tf.int32)),\r\n",
        "            tf.TensorSpec((), tf.int32)\r\n",
        "            )\r\n",
        "    )\r\n",
        "\r\n",
        "test_dataset = test_dataset.shuffle(720, reshuffle_each_iteration=True)\r\n",
        "test_dataset = test_dataset.repeat()\r\n",
        "test_dataset = test_dataset.batch(64)"
      ],
      "execution_count": null,
      "outputs": []
    },
    {
      "cell_type": "markdown",
      "metadata": {
        "id": "W1hoWD4c6gPg"
      },
      "source": [
        "This is a base model to which all 3 images have to be fed"
      ]
    },
    {
      "cell_type": "code",
      "metadata": {
        "colab": {
          "base_uri": "https://localhost:8080/"
        },
        "id": "gAM7E8Pax3vv",
        "outputId": "b0138c63-d684-447c-fb4b-c7c2da48833b"
      },
      "source": [
        "base_network = Sequential(name='base_network')\n",
        "\n",
        "base_network.add(Conv2D(64, (5, 5), activation='relu',kernel_initializer='he_normal', input_shape=(75, 250, 1)))\n",
        "base_network.add(BatchNormalization())\n",
        "base_network.add(MaxPool2D((2, 2),padding='same'))\n",
        "\n",
        "base_network.add(Conv2D(128, (5, 5), activation='relu',kernel_initializer='he_normal'))\n",
        "base_network.add(BatchNormalization())\n",
        "base_network.add(MaxPool2D((2, 2),padding='same'))\n",
        "\n",
        "base_network.add(Dropout(0.2))\n",
        "\n",
        "base_network.add(Conv2D(256, (5, 5), activation='relu',kernel_initializer='he_normal'))\n",
        "base_network.add(BatchNormalization())\n",
        "base_network.add(MaxPool2D((2, 2),padding='same'))\n",
        "\n",
        "base_network.add(Dropout(0.2))\n",
        "\n",
        "base_network.add(Conv2D(256, (5, 5), activation='relu',kernel_initializer='he_normal'))\n",
        "base_network.add(BatchNormalization())\n",
        "base_network.add(MaxPool2D((2, 2),padding='same'))\n",
        "\n",
        "base_network.add(Flatten())\n",
        "\n",
        "base_network.add(Dense(1024, activation = 'relu'))\n",
        "base_network.summary()"
      ],
      "execution_count": null,
      "outputs": [
        {
          "output_type": "stream",
          "text": [
            "Model: \"base_network\"\n",
            "_________________________________________________________________\n",
            "Layer (type)                 Output Shape              Param #   \n",
            "=================================================================\n",
            "conv2d (Conv2D)              (None, 71, 246, 64)       1664      \n",
            "_________________________________________________________________\n",
            "batch_normalization (BatchNo (None, 71, 246, 64)       256       \n",
            "_________________________________________________________________\n",
            "max_pooling2d (MaxPooling2D) (None, 36, 123, 64)       0         \n",
            "_________________________________________________________________\n",
            "conv2d_1 (Conv2D)            (None, 32, 119, 128)      204928    \n",
            "_________________________________________________________________\n",
            "batch_normalization_1 (Batch (None, 32, 119, 128)      512       \n",
            "_________________________________________________________________\n",
            "max_pooling2d_1 (MaxPooling2 (None, 16, 60, 128)       0         \n",
            "_________________________________________________________________\n",
            "dropout (Dropout)            (None, 16, 60, 128)       0         \n",
            "_________________________________________________________________\n",
            "conv2d_2 (Conv2D)            (None, 12, 56, 256)       819456    \n",
            "_________________________________________________________________\n",
            "batch_normalization_2 (Batch (None, 12, 56, 256)       1024      \n",
            "_________________________________________________________________\n",
            "max_pooling2d_2 (MaxPooling2 (None, 6, 28, 256)        0         \n",
            "_________________________________________________________________\n",
            "dropout_1 (Dropout)          (None, 6, 28, 256)        0         \n",
            "_________________________________________________________________\n",
            "conv2d_3 (Conv2D)            (None, 2, 24, 256)        1638656   \n",
            "_________________________________________________________________\n",
            "batch_normalization_3 (Batch (None, 2, 24, 256)        1024      \n",
            "_________________________________________________________________\n",
            "max_pooling2d_3 (MaxPooling2 (None, 1, 12, 256)        0         \n",
            "_________________________________________________________________\n",
            "flatten (Flatten)            (None, 3072)              0         \n",
            "_________________________________________________________________\n",
            "dense (Dense)                (None, 1024)              3146752   \n",
            "=================================================================\n",
            "Total params: 5,814,272\n",
            "Trainable params: 5,812,864\n",
            "Non-trainable params: 1,408\n",
            "_________________________________________________________________\n"
          ],
          "name": "stdout"
        }
      ]
    },
    {
      "cell_type": "markdown",
      "metadata": {
        "id": "vHqEGS-G6akI"
      },
      "source": [
        "Here we define our loss function. Tensorflow feeds both `y_true` and `y_pred` to the loss function. So our function should also accept those parameters but we ignore `y_true` as we don't need it for computation of loss.\r\n",
        "\r\n",
        "We need our network to learn how to distinguish between genuine and forged signatures. So `anchor` and `positive` vectors need to be as close as possible and `anchor` and `negative` vectors need to be as distant as possible. That's why, we compute those distances. We need to punish the network if `pos_dist` is greater than `neg_dist` including the threshold. We don't need to do anything if the required threshold is already achieved. So we take max between 0 and the computed difference.\r\n"
      ]
    },
    {
      "cell_type": "code",
      "metadata": {
        "id": "7d1w3eCwx3vy"
      },
      "source": [
        "def tf_triplet_loss(alpha):\n",
        "    def triplet_loss(y_true, y_pred):\n",
        "        anchor, positive, negative = tf.split(y_pred, 3, axis=-1)\n",
        "        pos_dist = tf.math.squared_difference(anchor, positive)\n",
        "        neg_dist = tf.math.squared_difference(anchor, negative)\n",
        "        loss = tf.maximum(pos_dist - neg_dist + alpha, tf.zeros_like(pos_dist))\n",
        "        return loss\n",
        "    return triplet_loss"
      ],
      "execution_count": null,
      "outputs": []
    },
    {
      "cell_type": "markdown",
      "metadata": {
        "id": "NuvFheBC645I"
      },
      "source": [
        "Cheking the positive and negative distance for few images before training the model."
      ]
    },
    {
      "cell_type": "code",
      "metadata": {
        "colab": {
          "base_uri": "https://localhost:8080/"
        },
        "id": "3INB77U4ivR5",
        "outputId": "b6ab3302-5aba-416a-981c-3e7f9e4a8b01"
      },
      "source": [
        "train_gen = train_data_gen()\r\n",
        "img = next(train_gen)\r\n",
        "print(np.array(img[0][0]).shape)\r\n",
        "vec1 = base_network(np.expand_dims(img[0][0],axis=0))\r\n",
        "vec2 = base_network(np.expand_dims(img[0][1],axis=0))\r\n",
        "vec3 = base_network(np.expand_dims(img[0][2],axis=0))\r\n",
        "pos_dist = tf.math.reduce_mean(tf.math.squared_difference(vec1, vec2))\r\n",
        "neg_dist = tf.math.reduce_mean(tf.math.squared_difference(vec2, vec3))\r\n",
        "print(pos_dist,neg_dist)\r\n",
        "\r\n",
        "img = next(train_gen)\r\n",
        "print(np.array(img[0][0]).shape)\r\n",
        "vec1 = base_network(np.expand_dims(img[0][0],axis=0))\r\n",
        "vec2 = base_network(np.expand_dims(img[0][1],axis=0))\r\n",
        "vec3 = base_network(np.expand_dims(img[0][2],axis=0))\r\n",
        "pos_dist = tf.math.reduce_mean(tf.math.squared_difference(vec1, vec2))\r\n",
        "neg_dist = tf.math.reduce_mean(tf.math.squared_difference(vec2, vec3))\r\n",
        "print(pos_dist,neg_dist)\r\n",
        "\r\n",
        "img = next(train_gen)\r\n",
        "print(np.array(img[0][0]).shape)\r\n",
        "vec1 = base_network(np.expand_dims(img[0][0],axis=0))\r\n",
        "vec2 = base_network(np.expand_dims(img[0][1],axis=0))\r\n",
        "vec3 = base_network(np.expand_dims(img[0][2],axis=0))\r\n",
        "pos_dist = tf.math.reduce_mean(tf.math.squared_difference(vec1, vec2))\r\n",
        "neg_dist = tf.math.reduce_mean(tf.math.squared_difference(vec2, vec3))\r\n",
        "print(pos_dist,neg_dist)\r\n",
        "\r\n",
        "img = next(train_gen)\r\n",
        "print(np.array(img[0][0]).shape)\r\n",
        "vec1 = base_network(np.expand_dims(img[0][0],axis=0))\r\n",
        "vec2 = base_network(np.expand_dims(img[0][1],axis=0))\r\n",
        "vec3 = base_network(np.expand_dims(img[0][2],axis=0))\r\n",
        "pos_dist = tf.math.reduce_mean(tf.math.squared_difference(vec1, vec2))\r\n",
        "neg_dist = tf.math.reduce_mean(tf.math.squared_difference(vec2, vec3))\r\n",
        "print(pos_dist,neg_dist)"
      ],
      "execution_count": null,
      "outputs": [
        {
          "output_type": "stream",
          "text": [
            "(75, 250, 1)\n",
            "tf.Tensor(2226.4353, shape=(), dtype=float32) tf.Tensor(3315.005, shape=(), dtype=float32)\n",
            "(75, 250, 1)\n",
            "tf.Tensor(3356.8179, shape=(), dtype=float32) tf.Tensor(5644.589, shape=(), dtype=float32)\n",
            "(75, 250, 1)\n",
            "tf.Tensor(3600.0984, shape=(), dtype=float32) tf.Tensor(5879.5283, shape=(), dtype=float32)\n",
            "(75, 250, 1)\n",
            "tf.Tensor(2576.9075, shape=(), dtype=float32) tf.Tensor(5244.874, shape=(), dtype=float32)\n"
          ],
          "name": "stdout"
        }
      ]
    },
    {
      "cell_type": "markdown",
      "metadata": {
        "id": "ucqJ0Hqd7CcI"
      },
      "source": [
        "Using Functional API "
      ]
    },
    {
      "cell_type": "code",
      "metadata": {
        "id": "mMsLkNqXx3v0"
      },
      "source": [
        "def build_train_model():\n",
        "    input_1 = Input(shape=(75, 250, 1))\n",
        "    input_2 = Input(shape=(75, 250, 1))\n",
        "    input_3 = Input(shape=(75, 250, 1))\n",
        "    \n",
        "    output_1 = base_network(input_1)\n",
        "    output_2 = base_network(input_2)\n",
        "    output_3 = base_network(input_3)\n",
        "    \n",
        "    final_output = concatenate([output_1, output_2, output_3])\n",
        "    \n",
        "    model = Model([input_1, input_2, input_3], final_output)\n",
        "    opt = tf.keras.optimizers.Adam(0.0005)\n",
        "    model.compile(loss=tf_triplet_loss(500), optimizer=opt)\n",
        "     \n",
        "    return model"
      ],
      "execution_count": null,
      "outputs": []
    },
    {
      "cell_type": "code",
      "metadata": {
        "colab": {
          "base_uri": "https://localhost:8080/"
        },
        "id": "uGmIhmGmXoEs",
        "outputId": "6db6b7b5-b5c2-43a7-903e-af37abdd27c3"
      },
      "source": [
        "model = build_train_model()\r\n",
        "model.summary()"
      ],
      "execution_count": null,
      "outputs": [
        {
          "output_type": "stream",
          "text": [
            "Model: \"model\"\n",
            "__________________________________________________________________________________________________\n",
            "Layer (type)                    Output Shape         Param #     Connected to                     \n",
            "==================================================================================================\n",
            "input_1 (InputLayer)            [(None, 75, 250, 1)] 0                                            \n",
            "__________________________________________________________________________________________________\n",
            "input_2 (InputLayer)            [(None, 75, 250, 1)] 0                                            \n",
            "__________________________________________________________________________________________________\n",
            "input_3 (InputLayer)            [(None, 75, 250, 1)] 0                                            \n",
            "__________________________________________________________________________________________________\n",
            "base_network (Sequential)       (None, 1024)         5814272     input_1[0][0]                    \n",
            "                                                                 input_2[0][0]                    \n",
            "                                                                 input_3[0][0]                    \n",
            "__________________________________________________________________________________________________\n",
            "concatenate (Concatenate)       (None, 3072)         0           base_network[0][0]               \n",
            "                                                                 base_network[1][0]               \n",
            "                                                                 base_network[2][0]               \n",
            "==================================================================================================\n",
            "Total params: 5,814,272\n",
            "Trainable params: 5,812,864\n",
            "Non-trainable params: 1,408\n",
            "__________________________________________________________________________________________________\n"
          ],
          "name": "stdout"
        }
      ]
    },
    {
      "cell_type": "code",
      "metadata": {
        "colab": {
          "base_uri": "https://localhost:8080/"
        },
        "id": "5WekvJIsx3v2",
        "outputId": "89d45048-78b4-49e2-a116-1ed60867a02f"
      },
      "source": [
        "history = model.fit(train_dataset,\n",
        "                    validation_data=test_dataset,\n",
        "                    epochs=25,\n",
        "                    steps_per_epoch=round(3252 / 64),\n",
        "                    validation_steps=round(720 / 64),\n",
        "                    verbose=1)"
      ],
      "execution_count": null,
      "outputs": [
        {
          "output_type": "stream",
          "text": [
            "Epoch 1/25\n",
            "51/51 [==============================] - 72s 907ms/step - loss: 457.4686 - val_loss: 401.4806\n",
            "Epoch 2/25\n",
            "51/51 [==============================] - 45s 895ms/step - loss: 203.5521 - val_loss: 292.3157\n",
            "Epoch 3/25\n",
            "51/51 [==============================] - 46s 901ms/step - loss: 89.1410 - val_loss: 160.9444\n",
            "Epoch 4/25\n",
            "51/51 [==============================] - 46s 899ms/step - loss: 38.0464 - val_loss: 110.5433\n",
            "Epoch 5/25\n",
            "51/51 [==============================] - 45s 892ms/step - loss: 20.9761 - val_loss: 70.7575\n",
            "Epoch 6/25\n",
            "51/51 [==============================] - 45s 887ms/step - loss: 9.5617 - val_loss: 66.0980\n",
            "Epoch 7/25\n",
            "51/51 [==============================] - 45s 889ms/step - loss: 7.5456 - val_loss: 49.1558\n",
            "Epoch 8/25\n",
            "51/51 [==============================] - 45s 886ms/step - loss: 12.2373 - val_loss: 57.2974\n",
            "Epoch 9/25\n",
            "51/51 [==============================] - 45s 889ms/step - loss: 8.3477 - val_loss: 49.0717\n",
            "Epoch 10/25\n",
            "51/51 [==============================] - 45s 888ms/step - loss: 3.6002 - val_loss: 54.6610\n",
            "Epoch 11/25\n",
            "51/51 [==============================] - 45s 888ms/step - loss: 4.6109 - val_loss: 34.9054\n",
            "Epoch 12/25\n",
            "51/51 [==============================] - 45s 885ms/step - loss: 2.3209 - val_loss: 20.2219\n",
            "Epoch 13/25\n",
            "51/51 [==============================] - 45s 881ms/step - loss: 2.7493 - val_loss: 23.6573\n",
            "Epoch 14/25\n",
            "51/51 [==============================] - 45s 879ms/step - loss: 3.5023 - val_loss: 19.3065\n",
            "Epoch 15/25\n",
            "51/51 [==============================] - 45s 880ms/step - loss: 3.1762 - val_loss: 14.8478\n",
            "Epoch 16/25\n",
            "51/51 [==============================] - 45s 878ms/step - loss: 3.4108 - val_loss: 54.2594\n",
            "Epoch 17/25\n",
            "51/51 [==============================] - 45s 888ms/step - loss: 2.5016 - val_loss: 14.6736\n",
            "Epoch 18/25\n",
            "51/51 [==============================] - 45s 878ms/step - loss: 1.5075 - val_loss: 11.9653\n",
            "Epoch 19/25\n",
            "51/51 [==============================] - 45s 882ms/step - loss: 1.8128 - val_loss: 36.5064\n",
            "Epoch 20/25\n",
            "51/51 [==============================] - 44s 873ms/step - loss: 3.3491 - val_loss: 57.9694\n",
            "Epoch 21/25\n",
            "51/51 [==============================] - 46s 897ms/step - loss: 6.2054 - val_loss: 41.4648\n",
            "Epoch 22/25\n",
            "51/51 [==============================] - 47s 933ms/step - loss: 5.0013 - val_loss: 26.6015\n",
            "Epoch 23/25\n",
            "51/51 [==============================] - 46s 902ms/step - loss: 10.0285 - val_loss: 21.3396\n",
            "Epoch 24/25\n",
            "51/51 [==============================] - 46s 910ms/step - loss: 3.7893 - val_loss: 12.7439\n",
            "Epoch 25/25\n",
            "51/51 [==============================] - 46s 905ms/step - loss: 2.9933 - val_loss: 10.2154\n"
          ],
          "name": "stdout"
        }
      ]
    },
    {
      "cell_type": "markdown",
      "metadata": {
        "id": "V25YMuJ57RZ6"
      },
      "source": [
        "Checking positive distance and negative distance for few images after training."
      ]
    },
    {
      "cell_type": "code",
      "metadata": {
        "colab": {
          "base_uri": "https://localhost:8080/"
        },
        "id": "40whgJXijoSf",
        "outputId": "197bdf1c-61e9-4236-a507-8639f6bb21a8"
      },
      "source": [
        "img = next(train_gen)\r\n",
        "print(np.array(img[0][0]).shape)\r\n",
        "vec1 = base_network(np.expand_dims(img[0][0],axis=0))\r\n",
        "vec2 = base_network(np.expand_dims(img[0][1],axis=0))\r\n",
        "vec3 = base_network(np.expand_dims(img[0][2],axis=0))\r\n",
        "pos_dist = tf.math.reduce_mean(tf.math.squared_difference(vec1, vec2))\r\n",
        "neg_dist = tf.math.reduce_mean(tf.math.squared_difference(vec2, vec3))\r\n",
        "print(pos_dist,neg_dist)\r\n",
        "\r\n",
        "img = next(train_gen)\r\n",
        "print(np.array(img[0][0]).shape)\r\n",
        "vec1 = base_network(np.expand_dims(img[0][0],axis=0))\r\n",
        "vec2 = base_network(np.expand_dims(img[0][1],axis=0))\r\n",
        "vec3 = base_network(np.expand_dims(img[0][2],axis=0))\r\n",
        "pos_dist = tf.math.reduce_mean(tf.math.squared_difference(vec1, vec2))\r\n",
        "neg_dist = tf.math.reduce_mean(tf.math.squared_difference(vec2, vec3))\r\n",
        "print(pos_dist,neg_dist)\r\n",
        "\r\n",
        "img = next(train_gen)\r\n",
        "print(np.array(img[0][0]).shape)\r\n",
        "vec1 = base_network(np.expand_dims(img[0][0],axis=0))\r\n",
        "vec2 = base_network(np.expand_dims(img[0][1],axis=0))\r\n",
        "vec3 = base_network(np.expand_dims(img[0][2],axis=0))\r\n",
        "pos_dist = tf.math.reduce_mean(tf.math.squared_difference(vec1, vec2))\r\n",
        "neg_dist = tf.math.reduce_mean(tf.math.squared_difference(vec2, vec3))\r\n",
        "print(pos_dist,neg_dist)\r\n",
        "\r\n",
        "img = next(train_gen)\r\n",
        "print(np.array(img[0][0]).shape)\r\n",
        "vec1 = base_network(np.expand_dims(img[0][0],axis=0))\r\n",
        "vec2 = base_network(np.expand_dims(img[0][1],axis=0))\r\n",
        "vec3 = base_network(np.expand_dims(img[0][2],axis=0))\r\n",
        "pos_dist = tf.math.reduce_mean(tf.math.squared_difference(vec1, vec2))\r\n",
        "neg_dist = tf.math.reduce_mean(tf.math.squared_difference(vec2, vec3))\r\n",
        "print(pos_dist,neg_dist)"
      ],
      "execution_count": null,
      "outputs": [
        {
          "output_type": "stream",
          "text": [
            "(75, 250, 1)\n",
            "tf.Tensor(89.85369, shape=(), dtype=float32) tf.Tensor(922.45746, shape=(), dtype=float32)\n",
            "(75, 250, 1)\n",
            "tf.Tensor(34.338192, shape=(), dtype=float32) tf.Tensor(1240.0986, shape=(), dtype=float32)\n",
            "(75, 250, 1)\n",
            "tf.Tensor(38.34077, shape=(), dtype=float32) tf.Tensor(2789.9805, shape=(), dtype=float32)\n",
            "(75, 250, 1)\n",
            "tf.Tensor(127.52109, shape=(), dtype=float32) tf.Tensor(4113.7017, shape=(), dtype=float32)\n"
          ],
          "name": "stdout"
        }
      ]
    },
    {
      "cell_type": "code",
      "metadata": {
        "colab": {
          "base_uri": "https://localhost:8080/",
          "height": 265
        },
        "id": "lQAYCfJWx3v3",
        "outputId": "9a11863e-0c8c-49af-aee5-9342ead621ec"
      },
      "source": [
        "plt.plot(history.history['loss'], label='training_loss')\n",
        "plt.plot(history.history['val_loss'], label='validation_loss')\n",
        "plt.legend()\n",
        "plt.show()"
      ],
      "execution_count": null,
      "outputs": [
        {
          "output_type": "display_data",
          "data": {
            "image/png": "[encoded data removed]",
            "text/plain": [
              "<Figure size 432x288 with 1 Axes>"
            ]
          },
          "metadata": {
            "tags": [],
            "needs_background": "light"
          }
        }
      ]
    },
    {
      "cell_type": "code",
      "metadata": {
        "id": "QO5VjbEUKHbn"
      },
      "source": [
        "base_network.save('base_network_final.h5')"
      ],
      "execution_count": null,
      "outputs": []
    }
  ]
}